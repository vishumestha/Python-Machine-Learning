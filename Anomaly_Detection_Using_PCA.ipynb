{
  "nbformat": 4,
  "nbformat_minor": 0,
  "metadata": {
    "colab": {
      "name": "Anomaly Detection Using PCA",
      "version": "0.3.2",
      "provenance": [],
      "include_colab_link": true
    },
    "kernelspec": {
      "name": "python3",
      "display_name": "Python 3"
    }
  },
  "cells": [
    {
      "cell_type": "markdown",
      "metadata": {
        "id": "view-in-github",
        "colab_type": "text"
      },
      "source": [
        "<a href=\"https://colab.research.google.com/github/vishumestha/Python-Machine-Learning/blob/master/Anomaly_Detection_Using_PCA.ipynb\" target=\"_parent\"><img src=\"https://colab.research.google.com/assets/colab-badge.svg\" alt=\"Open In Colab\"/></a>"
      ]
    },
    {
      "cell_type": "code",
      "metadata": {
        "id": "_ekx2c_7LDKQ",
        "colab_type": "code",
        "colab": {}
      },
      "source": [
        "#Data Manipulation Libraries\n",
        "import pandas as pd\n",
        "import numpy as np\n",
        "from sklearn.preprocessing import StandardScaler\n",
        "from sklearn.model_selection import train_test_split\n",
        "#"
      ],
      "execution_count": 0,
      "outputs": []
    },
    {
      "cell_type": "markdown",
      "metadata": {
        "id": "BvR1HMLuO3Ut",
        "colab_type": "text"
      },
      "source": [
        "### Loading the data "
      ]
    },
    {
      "cell_type": "code",
      "metadata": {
        "id": "npy_TwY5OV3s",
        "colab_type": "code",
        "colab": {}
      },
      "source": [
        "creditcardfraud = pd.read_csv(\"https://raw.githubusercontent.com/nsethi31/Kaggle-Data-Credit-Card-Fraud-Detection/master/creditcard.csv\")"
      ],
      "execution_count": 0,
      "outputs": []
    },
    {
      "cell_type": "markdown",
      "metadata": {
        "id": "r-iamRERO2tR",
        "colab_type": "text"
      },
      "source": [
        "### Data Preparation for training "
      ]
    },
    {
      "cell_type": "code",
      "metadata": {
        "id": "kdoMWVawOjYb",
        "colab_type": "code",
        "colab": {}
      },
      "source": [
        "creditcardfraud_norm = creditcardfraud\n",
        "creditcardfraud_norm['Time'] = StandardScaler().fit_transform(creditcardfraud_norm['Time'].values.reshape(-1, 1))\n",
        "creditcardfraud_norm['Amount'] = StandardScaler().fit_transform(creditcardfraud_norm['Amount'].values.reshape(-1, 1))\n",
        "\n",
        "RANDOM_SEED=52\n",
        "test_size=0.2\n",
        "train_x, test_x = train_test_split(creditcardfraud_norm, test_size=test_size, random_state=RANDOM_SEED)\n",
        "train_x = train_x[train_x.Class == 0] #where normal transactions\n",
        "train_x = train_x.drop(['Class'], axis=1) #drop the class column\n",
        "\n",
        "\n",
        "test_y = test_x['Class'] #save the class column for the test set\n",
        "test_x = test_x.drop(['Class'], axis=1) #drop the class column\n",
        "\n",
        "#train_x = train_x.values #transform to ndarray\n",
        "#test_x = test_x.values"
      ],
      "execution_count": 0,
      "outputs": []
    },
    {
      "cell_type": "code",
      "metadata": {
        "id": "ZE7f3FqUPAPa",
        "colab_type": "code",
        "colab": {}
      },
      "source": [
        "Class PCA:\n",
        "  def __init__(self,n_componets):\n",
        "    self.n_compoents=n_componets\n",
        "    \n",
        "  def fit(self,Xdata):\n",
        "    cov=train_x.corr()\n",
        "    U,S,V=np.linalg.svd byhi(cov)   "
      ],
      "execution_count": 0,
      "outputs": []
    },
    {
      "cell_type": "code",
      "metadata": {
        "id": "xy6QSi19RtaA",
        "colab_type": "code",
        "colab": {}
      },
      "source": [
        "X = np.matrix(train_x)\n",
        "cov = (X.T * X) / X.shape[0]\n",
        "U, S, V = np.linalg.svd(cov)\n",
        "#Select the n_components such that 90% of variance is retained"
      ],
      "execution_count": 0,
      "outputs": []
    },
    {
      "cell_type": "code",
      "metadata": {
        "id": "r4UfsC7vRyGI",
        "colab_type": "code",
        "colab": {}
      },
      "source": [
        "pca_thresh=0\n",
        "pca_components=np.argmax(np.cumsum(S/S.sum())>=pca_thresh)\n",
        "tm=np.dot(X,U[:,:pca_components+1])"
      ],
      "execution_count": 0,
      "outputs": []
    },
    {
      "cell_type": "code",
      "metadata": {
        "id": "vojr_r0pXjzr",
        "colab_type": "code",
        "colab": {}
      },
      "source": [
        "t_square=np.power(tm,2)/S[0:pca_components+1]"
      ],
      "execution_count": 0,
      "outputs": []
    },
    {
      "cell_type": "code",
      "metadata": {
        "id": "2cqeqb1xj6ST",
        "colab_type": "code",
        "outputId": "37fad6e4-31c2-489b-afd3-ce5a9ccc31d6",
        "colab": {
          "base_uri": "https://localhost:8080/",
          "height": 287
        }
      },
      "source": [
        "import seaborn as sns\n",
        "threshold=np.percentile(t_square,0.98)\n",
        "sns.distplot([x  for xby in t_square if x <=threshold])"
      ],
      "execution_count": 0,
      "outputs": [
        {
          "output_type": "execute_result",
          "data": {
            "text/plain": [
              "<matplotlib.axes._subplots.AxesSubplot at 0x7fe3c4298cf8>"
            ]
          },
          "metadata": {
            "tags": []
          },
          "execution_count": 59
        },
        {
          "output_type": "display_data",
          "data": {
            "image/png": "[encoded data removed]",
            "text/plain": [
              "<Figure size 432x288 with 1 Axes>"
            ]
          },
          "metadata": {
            "tags": []
          }
        }
      ]
    },
    {
      "cell_type": "code",
      "metadata": {
        "id": "_mMWOtZpTVh8",
        "colab_type": "code",
        "outputId": "e818d6fd-06d9-468d-b2d2-5184a87965af",
        "colab": {
          "base_uri": "https://localhost:8080/",
          "height": 54
        }
      },
      "source": [
        "from sklearn.decomposition import PCA\n",
        "pca_model=PCA(n_components=20)\n",
        "pca_model.fit(X)"
      ],
      "execution_count": 0,
      "outputs": [
        {
          "output_type": "execute_result",
          "data": {
            "text/plain": [
              "PCA(copy=True, iterated_power='auto', n_components=20, random_state=None,\n",
              "    svd_solver='auto', tol=0.0, whiten=False)"
            ]
          },
          "metadata": {
            "tags": []
          },
          "execution_count": 64
        }
      ]
    },
    {
      "cell_type": "code",
      "metadata": {
        "id": "cjBNMFhdWlT-",
        "colab_type": "code",
        "outputId": "c7170756-119f-482f-da2c-269b2fdde4b6",
        "colab": {
          "base_uri": "https://localhost:8080/",
          "height": 90
        }
      },
      "source": [
        "pca_model.explained_variance_"
      ],
      "execution_count": 0,
      "outputs": [
        {
          "output_type": "execute_result",
          "data": {
            "text/plain": [
              "array([3.8379489 , 3.09222426, 2.50810017, 2.02118434, 1.96942622,\n",
              "       1.77813911, 1.47563025, 1.35052958, 1.20576435, 1.16902841,\n",
              "       1.12023263, 0.99871265, 0.98033384, 0.86763855, 0.82357149,\n",
              "       0.75475075, 0.71963034, 0.66955322, 0.6475566 , 0.57159291])"
            ]
          },
          "metadata": {
            "tags": []
          },
          "execution_count": 65
        }
      ]
    },
    {
      "cell_type": "code",
      "metadata": {
        "id": "xAIt01X3U1VC",
        "colab_type": "code",
        "outputId": "4407d064-7568-4161-b8c5-f005f2f64e56",
        "colab": {
          "base_uri": "https://localhost:8080/",
          "height": 126
        }
      },
      "source": [
        "S"
      ],
      "execution_count": 0,
      "outputs": [
        {
          "output_type": "execute_result",
          "data": {
            "text/plain": [
              "array([3.83795682, 3.09222013, 2.50809758, 2.02121223, 1.96943818,\n",
              "       1.77814187, 1.47568116, 1.35052379, 1.20575908, 1.16903122,\n",
              "       1.12026431, 0.99870934, 0.98033441, 0.86763474, 0.82361552,\n",
              "       0.75475216, 0.71962783, 0.66955027, 0.64755625, 0.57159083,\n",
              "       0.51876446, 0.42892718, 0.38052188, 0.3668875 , 0.23465412,\n",
              "       0.21539057, 0.15648635, 0.11959123, 0.10771155, 0.04362207])"
            ]
          },
          "metadata": {
            "tags": []
          },
          "execution_count": 19
        }
      ]
    },
    {
      "cell_type": "code",
      "metadata": {
        "id": "QQIAHCtIVjTH",
        "colab_type": "code",
        "outputId": "ec89c0c9-00d7-46d5-e279-23d83f805416",
        "colab": {
          "base_uri": "https://localhost:8080/",
          "height": 126
        }
      },
      "source": [
        "pca_model.explained_variance_ratio_"
      ],
      "execution_count": 0,
      "outputs": [
        {
          "output_type": "execute_result",
          "data": {
            "text/plain": [
              "array([0.12327507, 0.09932236, 0.08056027, 0.06492052, 0.06325805,\n",
              "       0.0571139 , 0.0473973 , 0.04337906, 0.0387292 , 0.03754924,\n",
              "       0.03598192, 0.03207869, 0.03148836, 0.02786858, 0.02645315,\n",
              "       0.02424262, 0.02311455, 0.02150608, 0.02079954, 0.01835959,\n",
              "       0.01666274, 0.01377721, 0.01222243, 0.01178448, 0.00753713,\n",
              "       0.00691837, 0.00502624, 0.00381267, 0.00345954, 0.00140114])"
            ]
          },
          "metadata": {
            "tags": []
          },
          "execution_count": 20
        }
      ]
    },
    {
      "cell_type": "code",
      "metadata": {
        "id": "gWJbZUbSVoMb",
        "colab_type": "code",
        "outputId": "5752d6bc-c9fb-405a-fe36-1b3356b7f0d7",
        "colab": {
          "base_uri": "https://localhost:8080/",
          "height": 126
        }
      },
      "source": [
        "S/S.sum()"
      ],
      "execution_count": 0,
      "outputs": [
        {
          "output_type": "execute_result",
          "data": {
            "text/plain": [
              "array([0.1232712 , 0.09931891, 0.0805575 , 0.06491924, 0.06325631,\n",
              "       0.05711207, 0.04739735, 0.04337742, 0.03872773, 0.03754807,\n",
              "       0.03598173, 0.03207751, 0.03148733, 0.02786753, 0.02645368,\n",
              "       0.02424186, 0.0231137 , 0.02150526, 0.02079884, 0.01835891,\n",
              "       0.01666218, 0.0137767 , 0.01222197, 0.01178405, 0.00753685,\n",
              "       0.00691812, 0.00502618, 0.00384115, 0.00345958, 0.0014011 ])"
            ]
          },
          "metadata": {
            "tags": []
          },
          "execution_count": 21
        }
      ]
    },
    {
      "cell_type": "code",
      "metadata": {
        "id": "5dRk6ZpJVxnL",
        "colab_type": "code",
        "outputId": "076267ca-ec96-4a8f-f04c-90b4fd46de45",
        "colab": {
          "base_uri": "https://localhost:8080/",
          "height": 163
        }
      },
      "source": [
        "pca_model.singular_values_"
      ],
      "execution_count": 0,
      "outputs": [
        {
          "output_type": "execute_result",
          "data": {
            "text/plain": [
              "array([934.32774905, 838.65848498, 755.30453496, 678.03578612,\n",
              "       669.29797484, 635.96398325, 579.34655371, 554.24489866,\n",
              "       523.69794879, 515.6585052 , 504.78188736, 476.61743969,\n",
              "       472.21159919, 444.24144461, 432.81300749, 414.33481668,\n",
              "       404.57997641, 390.24936376, 383.78546381, 360.5728901 ,\n",
              "       343.50638575, 312.35056143, 294.19847904, 288.87959771,\n",
              "       231.02796032, 221.34191591, 188.66146146, 164.31464743,\n",
              "       156.52040472,  99.609821  ])"
            ]
          },
          "metadata": {
            "tags": []
          },
          "execution_count": 22
        }
      ]
    },
    {
      "cell_type": "code",
      "metadata": {
        "id": "BrG-XZdWWS4G",
        "colab_type": "code",
        "colab": {}
      },
      "source": [
        ""
      ],
      "execution_count": 0,
      "outputs": []
    },
    {
      "cell_type": "code",
      "metadata": {
        "id": "a4ZwgJ64WUm9",
        "colab_type": "code",
        "outputId": "057f6e9d-236b-4250-b01f-dea7f9ccbb25",
        "colab": {
          "base_uri": "https://localhost:8080/",
          "height": 35
        }
      },
      "source": [
        "pca_model.noise_variance_\n",
        "\n",
        "import scipy.stats\n",
        "\n",
        "print scipy.stats.f.isf(0.98, p, n-p)"
      ],
      "execution_count": 0,
      "outputs": [
        {
          "output_type": "execute_result",
          "data": {
            "text/plain": [
              "0.2571664285703722"
            ]
          },
          "metadata": {
            "tags": []
          },
          "execution_count": 66
        }
      ]
    },
    {
      "cell_type": "code",
      "metadata": {
        "id": "RVfnwXHhmykn",
        "colab_type": "code",
        "colab": {}
      },
      "source": [
        "#I can calculate the confidence limit for T^2 test in matlab with\n",
        "#T2Upper=p*(n-1)/(n-p)*finv(0.98,p,n-p)here p =PCs,n= sample number\"\n",
        "#like this how can I calculate the confidence limits for Q test?\n",
        "n=X.shape[0]\n",
        "p=\n",
        "\n",
        "\n",
        "import scipy.stats\n",
        "T2Upper=p*(n-1)/(n-p)*scipy.stats.f.isf(0.98,p,n-p); \n"
      ],
      "execution_count": 0,
      "outputs": []
    },
    {
      "cell_type": "code",
      "metadata": {
        "id": "O2U3y1ZWt0Vy",
        "colab_type": "code",
        "outputId": "f8ca099f-4f69-469c-80e8-a90143ef0e97",
        "colab": {
          "base_uri": "https://localhost:8080/",
          "height": 35
        }
      },
      "source": [
        "T2Upper"
      ],
      "execution_count": 0,
      "outputs": [
        {
          "output_type": "execute_result",
          "data": {
            "text/plain": [
              "73.17003213786138"
            ]
          },
          "metadata": {
            "tags": []
          },
          "execution_count": 77
        }
      ]
    },
    {
      "cell_type": "code",
      "metadata": {
        "id": "zmL3oAPRt2B6",
        "colab_type": "code",
        "outputId": "566085ad-a7c0-4a91-ccb2-2777acd7e8ee",
        "colab": {
          "base_uri": "https://localhost:8080/",
          "height": 35
        }
      },
      "source": [
        "U.shape"
      ],
      "execution_count": 0,
      "outputs": [
        {
          "output_type": "execute_result",
          "data": {
            "text/plain": [
              "(30, 30)"
            ]
          },
          "metadata": {
            "tags": []
          },
          "execution_count": 73
        }
      ]
    },
    {
      "cell_type": "code",
      "metadata": {
        "id": "FEFJ4UtauHTx",
        "colab_type": "code",
        "colab": {}
      },
      "source": [
        "pca_model."
      ],
      "execution_count": 0,
      "outputs": []
    }
  ]
}