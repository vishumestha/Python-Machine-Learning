{
  "nbformat": 4,
  "nbformat_minor": 0,
  "metadata": {
    "colab": {
      "name": "Decision Tree.ipynb",
      "version": "0.3.2",
      "provenance": [],
      "collapsed_sections": [],
      "include_colab_link": true
    },
    "kernelspec": {
      "name": "python3",
      "display_name": "Python 3"
    }
  },
  "cells": [
    {
      "cell_type": "markdown",
      "metadata": {
        "id": "view-in-github",
        "colab_type": "text"
      },
      "source": [
        "<a href=\"https://colab.research.google.com/github/vishumestha/Python-Machine-Learning/blob/master/Decision_Tree.ipynb\" target=\"_parent\"><img src=\"https://colab.research.google.com/assets/colab-badge.svg\" alt=\"Open In Colab\"/></a>"
      ]
    },
    {
      "metadata": {
        "id": "mlwRE9oxGp8m",
        "colab_type": "text"
      },
      "cell_type": "markdown",
      "source": [
        "# Decision Tree From scratch"
      ]
    },
    {
      "metadata": {
        "id": "JJPgLZeq-E5t",
        "colab_type": "code",
        "colab": {}
      },
      "cell_type": "code",
      "source": [
        "import pandas as pd\n",
        "import numpy as np\n",
        "import seaborn as sns\n",
        "from sklearn.datasets import load_iris\n",
        "from sklearn.tree import DecisionTreeClassifier\n",
        "from sklearn.model_selection import train_test_split,GridSearchCV,RandomizedSearchCV\n",
        "from sklearn.metrics import accuracy_score,classification_report,confusion_matrix,f1_score\n"
      ],
      "execution_count": 0,
      "outputs": []
    },
    {
      "metadata": {
        "id": "NgzDGqA6KD6k",
        "colab_type": "text"
      },
      "cell_type": "markdown",
      "source": [
        "** Decision Tree Flow map**[lDecision Tree Flow map.png](https://drive.google.com/file/d/18dDF-ySsiMccrH8ouHh7OvFQ-wOKiCO8/view?usp=sharing)\n",
        " \n",
        "**Information Gain** \n",
        "\n",
        "less impure node requires less information to describe it. And, more impure node requires more information. Information theory is a measure to define this degree of disorganization in a system known as Entropy. If the sample is completely homogeneous, then the entropy is zero and if the sample is an equally divided (50% – 50%), it has entropy of one.\n",
        "\n",
        " Entropy [ Entropy](https://drive.google.com/file/d/1mvJqLAYE_ZlBEYP67iHGpkxWzfTED9ex/view?usp=sharing)\n",
        " \n",
        " **Gini Index:** \n",
        " Book below\n",
        " \n",
        "** Reduction in Variance**"
      ]
    },
    {
      "metadata": {
        "id": "3sbePn3e4tDN",
        "colab_type": "code",
        "outputId": "b671e14d-a590-4d84-f29d-7625dd6648fb",
        "colab": {
          "base_uri": "https://localhost:8080/",
          "height": 102
        }
      },
      "cell_type": "code",
      "source": [
        "#Load the data\n",
        "iris = load_iris()\n",
        "X = iris.data # petal length and width\n",
        "y = iris.target\n",
        "X_train,X_test,y_train,y_test=train_test_split(X,y,test_size=.20,random_state=10)\n",
        "tree_clf = DecisionTreeClassifier(criterion='entropy',max_depth=4,max_features=3,random_state=1,max_leaf_nodes=10,presort=True)\n",
        "tree_clf.fit(X_train,y_train)"
      ],
      "execution_count": 16,
      "outputs": [
        {
          "output_type": "execute_result",
          "data": {
            "text/plain": [
              "DecisionTreeClassifier(class_weight=None, criterion='entropy', max_depth=4,\n",
              "            max_features=3, max_leaf_nodes=10, min_impurity_decrease=0.0,\n",
              "            min_impurity_split=None, min_samples_leaf=1,\n",
              "            min_samples_split=2, min_weight_fraction_leaf=0.0,\n",
              "            presort=True, random_state=1, splitter='best')"
            ]
          },
          "metadata": {
            "tags": []
          },
          "execution_count": 16
        }
      ]
    },
    {
      "metadata": {
        "id": "_Gln14yzqgdU",
        "colab_type": "code",
        "colab": {
          "base_uri": "https://localhost:8080/",
          "height": 34
        },
        "outputId": "1472da90-7a3a-48c8-a4b2-454eefe327f3"
      },
      "cell_type": "code",
      "source": [
        "prediction=tree_clf.predict(X_test)\n",
        "f1_score(y_test,prediction,average='micro')\n",
        "#confusion_matrix(y_test,prediction)"
      ],
      "execution_count": 17,
      "outputs": [
        {
          "output_type": "execute_result",
          "data": {
            "text/plain": [
              "0.9666666666666667"
            ]
          },
          "metadata": {
            "tags": []
          },
          "execution_count": 17
        }
      ]
    },
    {
      "metadata": {
        "id": "uUXR1yz7bP2K",
        "colab_type": "text"
      },
      "cell_type": "markdown",
      "source": [
        "**Advantages and disadvantages**\n",
        "\n",
        "wiki:https://en.wikipedia.org/wiki/Decision_tree\n",
        "\n",
        "**books**\n",
        "\n",
        "https://github.com/devakar/deep-learning-books/blob/master/Hands%20on%20Machine%20Learning%20with%20Scikit%20Learn%20and%20TensorFlow.pdf\n",
        "\n",
        "**Code for scratch**:\n",
        "\n",
        "1.https://github.com/SebastianMantey/Decision-Tree-from-Scratch/blob/master/notebooks/handling%20only%20continuous%20variables.ipynb\n",
        "2.https://github.com/random-forests/tutorials/blob/master/decision_tree.ipynb\n",
        "\n",
        "\n",
        "\n"
      ]
    },
    {
      "metadata": {
        "id": "aL4UUgCqzZ3H",
        "colab_type": "code",
        "colab": {}
      },
      "cell_type": "code",
      "source": [
        ""
      ],
      "execution_count": 0,
      "outputs": []
    }
  ]
}